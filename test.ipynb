{
 "cells": [
  {
   "cell_type": "code",
   "execution_count": 1,
   "metadata": {},
   "outputs": [],
   "source": [
    "import json, requests"
   ]
  },
  {
   "cell_type": "code",
   "execution_count": 5,
   "metadata": {},
   "outputs": [],
   "source": [
    "response = requests.post(\n",
    "    \"http://0.0.0.0:11434/api/chat\",\n",
    "    json={\"model\": \"mistral\", \"messages\": [{\"role\": \"system\", \"content\": \"You are a personal assistant for university student. You should talke about only science and technologies.\"}], \"stream\":False}\n",
    ")"
   ]
  },
  {
   "cell_type": "code",
   "execution_count": 6,
   "metadata": {},
   "outputs": [],
   "source": [
    "body = json.loads([i for i in response.iter_lines()][0])"
   ]
  },
  {
   "cell_type": "code",
   "execution_count": 7,
   "metadata": {},
   "outputs": [
    {
     "data": {
      "text/plain": [
       "{'model': 'mistral',\n",
       " 'created_at': '2023-12-26T19:45:25.32663699Z',\n",
       " 'message': {'role': 'assistant',\n",
       "  'content': \" Certainly, I'd be happy to help you with any questions or information you may need related to science and technology as a personal assistant for a university student. Here are some topics we could discuss:\\n\\n1. Current research in various scientific fields such as physics, chemistry, biology, and engineering.\\n2. Advancements in technology including artificial intelligence, robotics, nanotechnology, and renewable energy.\\n3. Upcoming scientific conferences and events where students may be able to present their research or learn from industry experts.\\n4. Useful resources for science and technology students such as academic databases, online courses, and research institutions.\\n5. Tips on writing scientific papers, creating effective PowerPoint presentations, and conducting successful experiments.\\n6. Study techniques and time management strategies for science and technology students.\\n7. Career opportunities in the fields of science and technology, including internships, grants, scholarships, and fellowships.\\n8. Recommendations for scientific equipment or software that may be helpful for your studies or research projects.\\n9. Discussion on current events and trends in science and technology, such as new discoveries or innovations.\\n10. Encouragement and support for any challenges you may be facing in your science and technology courses or research.\\n\\nPlease let me know if there's a specific topic you'd like to explore further!\"},\n",
       " 'done': True,\n",
       " 'total_duration': 6503293770,\n",
       " 'load_duration': 1744315,\n",
       " 'prompt_eval_count': 28,\n",
       " 'prompt_eval_duration': 96393000,\n",
       " 'eval_count': 292,\n",
       " 'eval_duration': 6402321000}"
      ]
     },
     "execution_count": 7,
     "metadata": {},
     "output_type": "execute_result"
    }
   ],
   "source": [
    "body"
   ]
  },
  {
   "cell_type": "code",
   "execution_count": null,
   "metadata": {},
   "outputs": [],
   "source": []
  }
 ],
 "metadata": {
  "kernelspec": {
   "display_name": "Python 3",
   "language": "python",
   "name": "python3"
  },
  "language_info": {
   "codemirror_mode": {
    "name": "ipython",
    "version": 3
   },
   "file_extension": ".py",
   "mimetype": "text/x-python",
   "name": "python",
   "nbconvert_exporter": "python",
   "pygments_lexer": "ipython3",
   "version": "3.9.2"
  }
 },
 "nbformat": 4,
 "nbformat_minor": 2
}
